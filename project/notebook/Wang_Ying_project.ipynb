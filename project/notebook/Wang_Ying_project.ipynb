{
  "cells": [
    {
      "cell_type": "markdown",
      "id": "12ffbb65",
      "metadata": {
        "id": "12ffbb65"
      },
      "source": [
        "Name: Ying Wang\n",
        "\n",
        "Github Username: Notrew\n",
        "\n",
        "USC ID: 9965632493"
      ]
    },
    {
      "cell_type": "code",
      "source": [
        "import os \n",
        "import shutil\n",
        "import math\n",
        "\n",
        "import tensorflow as tf\n",
        "from tensorflow.keras.preprocessing import image_dataset_from_directory\n",
        "from tensorflow.keras.preprocessing.image import ImageDataGenerator\n",
        "from tensorflow.keras.layers import Dense,Dropout,Flatten,GlobalAveragePooling2D,BatchNormalization\n",
        "from tensorflow.keras.models import Sequential,Model\n",
        "from tensorflow.keras.applications import EfficientNetB0,VGG16\n",
        "from tensorflow.keras.applications.vgg16 import preprocess_input as preprocess_input_v\n",
        "from tensorflow.keras.optimizers import Adam\n",
        "from livelossplot.inputs.keras import PlotLossesCallback\n",
        "from tensorflow.keras.callbacks import ModelCheckpoint, EarlyStopping\n",
        "from sklearn.metrics import classification_report\n",
        "\n",
        "import pandas as pd\n",
        "import numpy as np\n",
        "import matplotlib.pyplot as plt\n",
        "%matplotlib inline\n",
        "import seaborn as sns\n",
        "\n",
        "import warnings\n",
        "warnings.filterwarnings(\"ignore\")"
      ],
      "metadata": {
        "id": "DxG8HUFFn4Op"
      },
      "id": "DxG8HUFFn4Op",
      "execution_count": 2,
      "outputs": []
    },
    {
      "cell_type": "markdown",
      "id": "2c4a8083",
      "metadata": {
        "id": "2c4a8083"
      },
      "source": [
        "## a. In this problem, we are trying to build a classifier that distinguishes images of 20 bird species. You are provided with text data in twenty folders."
      ]
    },
    {
      "cell_type": "markdown",
      "id": "2015ba79",
      "metadata": {
        "id": "2015ba79"
      },
      "source": [
        "## b. Data Exploration and Pre-processing"
      ]
    },
    {
      "cell_type": "markdown",
      "id": "ce777256",
      "metadata": {
        "id": "ce777256"
      },
      "source": [
        "### b.i. Images in each class are given in separate folders. The file Classes.xlsx provides the classes assigned to the bird species images in each folder. \n",
        "### b.i. Therefore, you encode your classes using one-hot encoding and Classes.xlsx.\n",
        "### b.ii. Randomly select $\\lceil{0.7ni}\\rceil$ images from each folder as your training set,  $\\lceil{0.15ni}\\rceil$ as validation set, and the rest as your test set, where ni is the number of images in folder i and  $\\lceil{x}\\rceil$ is the ceiling of x.\n",
        "### b.iii. In order for all the images to have the same size, zero-pad or resize the images in your dataset. This can be done using various tools, including OpenCV."
      ]
    },
    {
      "cell_type": "markdown",
      "id": "062be1c9",
      "metadata": {
        "id": "062be1c9"
      },
      "source": []
    },
    {
      "cell_type": "code",
      "execution_count": 3,
      "id": "1c589e6f",
      "metadata": {
        "colab": {
          "base_uri": "https://localhost:8080/"
        },
        "id": "1c589e6f",
        "outputId": "389c47bf-2b29-48b0-c3e2-4a4401ca8d71"
      },
      "outputs": [
        {
          "output_type": "stream",
          "name": "stdout",
          "text": [
            "Drive already mounted at /content/drive; to attempt to forcibly remount, call drive.mount(\"/content/drive\", force_remount=True).\n"
          ]
        }
      ],
      "source": [
        "from google.colab import drive\n",
        "drive.mount('/content/drive')"
      ]
    },
    {
      "cell_type": "code",
      "source": [
        "dirnames = []\n",
        "filenames = []\n",
        "dirpaths= []\n",
        "for dirpath,dirname,filename in os.walk(\"/content/drive/MyDrive/presonal_colab/552-project/Data/images\"):\n",
        "  dirpaths.append(dirpath)\n",
        "  if len(dirname)!= 0:\n",
        "    dirnames = dirname\n",
        "  if len(filename)!=0:\n",
        "    filenames.append(filename)\n",
        "  # print(f\"There are {len(dirname)} directories and {len(filename)} images in {dirpath}\")\n",
        "dirpaths.pop(0)"
      ],
      "metadata": {
        "colab": {
          "base_uri": "https://localhost:8080/",
          "height": 35
        },
        "id": "kybsFgo9ajDM",
        "outputId": "2dd627af-943c-4e41-8e8c-e8c753e61c4b"
      },
      "id": "kybsFgo9ajDM",
      "execution_count": 4,
      "outputs": [
        {
          "output_type": "execute_result",
          "data": {
            "text/plain": [
              "'/content/drive/MyDrive/presonal_colab/552-project/Data/images'"
            ],
            "application/vnd.google.colaboratory.intrinsic+json": {
              "type": "string"
            }
          },
          "metadata": {},
          "execution_count": 4
        }
      ]
    },
    {
      "cell_type": "code",
      "source": [
        "# split data into train, validation and test set\n",
        "train_path = \"/content/drive/MyDrive/presonal_colab/552-project/Data/train_set\"\n",
        "vali_path = \"/content/drive/MyDrive/presonal_colab/552-project/Data/vali_set\"\n",
        "test_path = \"/content/drive/MyDrive/presonal_colab/552-project/Data/test_set\"\n",
        "os.mkdir(train_path)\n",
        "os.mkdir(vali_path)\n",
        "os.mkdir(test_path)\n",
        "for i in range(0,20):\n",
        "  img_names = os.listdir(dirpaths[i])\n",
        "  train_size = math.ceil(0.7*len(filenames[i]))\n",
        "  vali_size = math.ceil(0.15*len(filenames[i]))\n",
        "  test_size = len(filenames[i])-train_size-vali_size\n",
        "\n",
        "  train_imgs = filenames[i][0:train_size]\n",
        "  vali_imgs = filenames[i][train_size:train_size+vali_size]\n",
        "  test_imgs = filenames[i][-test_size:]\n",
        "\n",
        "  os.mkdir(train_path+\"/\"+dirnames[i])\n",
        "  os.mkdir(vali_path+\"/\"+dirnames[i])\n",
        "  os.mkdir(test_path+\"/\"+dirnames[i])\n",
        "\n",
        "  for img in train_imgs:\n",
        "    old_path = os.path.join(dirpaths[i],img)\n",
        "    new_path = os.path.join(train_path,dirnames[i],img)\n",
        "    shutil.copy(old_path,new_path)\n",
        "  for img in vali_imgs:\n",
        "    old_path = os.path.join(dirpaths[i],img)\n",
        "    new_path = os.path.join(vali_path,dirnames[i],img)\n",
        "    shutil.copy(old_path, new_path)\n",
        "  for img in test_imgs:\n",
        "    old_path = os.path.join(dirpaths[i],img)\n",
        "    new_path = os.path.join(test_path,dirnames[i],img)\n",
        "    shutil.copy(old_path, new_path)"
      ],
      "metadata": {
        "id": "WZD30IvZfccI"
      },
      "id": "WZD30IvZfccI",
      "execution_count": null,
      "outputs": []
    },
    {
      "cell_type": "code",
      "source": [
        "# load data\n",
        "# and class_mode='categorical' automatically performs one hot encoding of the classes\n",
        "train_path = \"/content/drive/MyDrive/presonal_colab/552-project/Data/train_set\"\n",
        "vali_path = \"/content/drive/MyDrive/presonal_colab/552-project/Data/vali_set\"\n",
        "test_path = \"/content/drive/MyDrive/presonal_colab/552-project/Data/test_set\"\n",
        "\n",
        "ori_gen_efnb0 = ImageDataGenerator()\n",
        "ori_gen_vgg = ImageDataGenerator(preprocessing_function = preprocess_input_v)\n",
        "\n",
        "train_data_efnb0 = ori_gen_efnb0.flow_from_directory(\n",
        "    train_path+\"/\",\n",
        "    class_mode = 'categorical',\n",
        "    target_size=(224,224),\n",
        "    batch_size=5,\n",
        "    shuffle=True)\n",
        "train_data_vgg = ori_gen_vgg.flow_from_directory(\n",
        "    train_path+\"/\",\n",
        "    class_mode = 'categorical',\n",
        "    target_size=(224,224),\n",
        "    batch_size=5,\n",
        "    shuffle=True)\n",
        "vali_data = ori_gen_efnb0.flow_from_directory(\n",
        "    vali_path+\"/\",\n",
        "    class_mode = 'categorical',\n",
        "    target_size=(224,224),\n",
        "    batch_size=5,\n",
        "    shuffle=False)\n",
        "test_data = ori_gen_efnb0.flow_from_directory(\n",
        "    test_path+\"/\",\n",
        "    class_mode = 'categorical',\n",
        "    target_size=(224,224),\n",
        "    batch_size=5,\n",
        "    shuffle=False)\n",
        "# len(train_data) = num/batch(+1)\n",
        "# train_data[i-1][0] the i-th batch\n",
        "# train_data[i-1][0][j-1] the j-th image"
      ],
      "metadata": {
        "colab": {
          "base_uri": "https://localhost:8080/"
        },
        "id": "-VSPQ_GMjpEx",
        "outputId": "fcc55504-90ce-49ec-f335-ba0ab0b5502f"
      },
      "id": "-VSPQ_GMjpEx",
      "execution_count": 6,
      "outputs": [
        {
          "output_type": "stream",
          "name": "stdout",
          "text": [
            "Found 827 images belonging to 20 classes.\n",
            "Found 827 images belonging to 20 classes.\n",
            "Found 178 images belonging to 20 classes.\n",
            "Found 171 images belonging to 20 classes.\n"
          ]
        }
      ]
    },
    {
      "cell_type": "markdown",
      "id": "de99a32f",
      "metadata": {
        "id": "de99a32f"
      },
      "source": [
        "## c. Transfer Learning"
      ]
    },
    {
      "cell_type": "markdown",
      "id": "83799921",
      "metadata": {
        "id": "83799921"
      },
      "source": [
        "### c.i. \n",
        "When dealing with classification of relatively small image datasets, deep networks may not perform very well because of not having enough data to train them. In such cases, one usually uses transfer learning, which uses deep learning models that are trained on very large datasets such as ImageNet as feature extractors. The idea is that such deep networks have learned to extract meaningful features from an image using their layers, and those features can be used in learning other tasks. In order to do that, usually the last layer or the last few layers of the pre-trained network are removed, and the response of the layer before the removed layers to the images in the new dataset is used as a feature vector to train one more multiple replacement layers. The dataset in this task has only around 50-60 images per class. \n",
        "\n",
        "Given that we have 20 classes, training a deep network with such a small dataset may not yield desirable results. In this project, you will **use pre-trained models EfficientNetB0 and VGG16**. For both pre-trained networks, you will **only train the last fully connected layer**, and will **freeze all layers before them** (i.e. we do not change their parameters during training) and **use the outputs of the penultimate layer in the original pre-trained model as the features extracted from each image**."
      ]
    },
    {
      "cell_type": "markdown",
      "id": "1ae87076",
      "metadata": {
        "id": "1ae87076"
      },
      "source": [
        "### c.ii. \n",
        "To **perform empirical regularization, crop, randomly zoom, rotate, flip, contrast, and translate images** in your training set for image augmentation. You can use various tools to do this, including **OpenCV**."
      ]
    },
    {
      "cell_type": "code",
      "source": [
        "# reference https://datamonje.com/image-data-augmentation/#crop and\n",
        "# https://www.tensorflow.org/api_docs/python/tf/keras/preprocessing/image/ImageDataGenerator\n",
        "train_path = \"/content/drive/MyDrive/presonal_colab/552-project/Data/train_set\"\n",
        "vali_path = \"/content/drive/MyDrive/presonal_colab/552-project/Data/vali_set\"\n",
        "test_path = \"/content/drive/MyDrive/presonal_colab/552-project/Data/test_set\"\n",
        "# set up crop\n",
        "def random_crop(np_tensor):\n",
        "  new_height = int(np.random.uniform(0.7, 1.30) * np_tensor.shape[0])\n",
        "  new_width = int(np.random.uniform(0.7, 1.30) * np_tensor.shape[1])\n",
        "  cropped = tf.image.resize_with_crop_or_pad(np_tensor, new_height, new_width)\n",
        "  augmnted_tensor = tf.image.resize(cropped, np_tensor.shape[:2])\n",
        "  return np.array(augmnted_tensor)\n",
        "crop_gen = ImageDataGenerator(preprocessing_function=random_crop)\n",
        "train_crop = crop_gen.flow_from_directory(\n",
        "    train_path+\"/\",\n",
        "    class_mode = 'categorical',\n",
        "    target_size=(224,224),\n",
        "    batch_size=5,\n",
        "    shuffle=True)\n",
        "\n",
        "# set up randomly zoom\n",
        "# zooms an image to between 80% to 125%\n",
        "zoom_gen = ImageDataGenerator(zoom_range=[0.8, 1.25])\n",
        "train_zoom = zoom_gen.flow_from_directory(\n",
        "    train_path+\"/\",\n",
        "    class_mode = 'categorical',\n",
        "    target_size=(224,224),\n",
        "    batch_size=5,\n",
        "    shuffle=True)\n",
        "\n",
        "# set up rotate\n",
        "rotate_gen = ImageDataGenerator(rotation_range=45)\n",
        "train_rotate = rotate_gen.flow_from_directory(\n",
        "    train_path+\"/\",\n",
        "    class_mode = 'categorical',\n",
        "    target_size=(224,224),\n",
        "    batch_size=5,\n",
        "    shuffle=True)\n",
        "\n",
        "# set up vertical flip\n",
        "flip_gen = ImageDataGenerator(vertical_flip=True)\n",
        "train_v_flip = flip_gen.flow_from_directory(\n",
        "    train_path+\"/\",\n",
        "    class_mode = 'categorical',\n",
        "    target_size=(224,224),\n",
        "    batch_size=5,\n",
        "    shuffle=True)\n",
        "\n",
        "# set up contrast\n",
        "def random_contrast(np_tensor):\n",
        "  augmnted_tensor = tf.image.random_contrast(np_tensor, 0.5, 2)\n",
        "  return np.array(augmnted_tensor)\n",
        "\n",
        "contrast_gen = ImageDataGenerator(preprocessing_function=random_contrast)\n",
        "train_contrast = contrast_gen.flow_from_directory(\n",
        "    train_path+\"/\",\n",
        "    class_mode = 'categorical',\n",
        "    target_size=(224,224),\n",
        "    batch_size=5,\n",
        "    shuffle=True)\n",
        "\n",
        "# set up translate\n",
        "translate_gen = ImageDataGenerator(width_shift_range=0.25, height_shift_range=0.25)\n",
        "train_translate = translate_gen.flow_from_directory(\n",
        "    train_path+\"/\",\n",
        "    class_mode = 'categorical',\n",
        "    target_size=(224,224),\n",
        "    batch_size=5,\n",
        "    shuffle=True)"
      ],
      "metadata": {
        "colab": {
          "base_uri": "https://localhost:8080/"
        },
        "id": "W8iXLSqgqHvH",
        "outputId": "11c6afbe-e1d1-4799-c0b8-f6d0f261217a"
      },
      "id": "W8iXLSqgqHvH",
      "execution_count": 7,
      "outputs": [
        {
          "output_type": "stream",
          "name": "stdout",
          "text": [
            "Found 827 images belonging to 20 classes.\n",
            "Found 827 images belonging to 20 classes.\n",
            "Found 827 images belonging to 20 classes.\n",
            "Found 827 images belonging to 20 classes.\n",
            "Found 827 images belonging to 20 classes.\n",
            "Found 827 images belonging to 20 classes.\n"
          ]
        }
      ]
    },
    {
      "cell_type": "code",
      "source": [
        "train_dirpaths = []\n",
        "train_dirnames = []\n",
        "train_filenames = []\n",
        "for dirpath,dirname,filename in os.walk(\"/content/drive/MyDrive/presonal_colab/552-project/Data/train_set\"):\n",
        "    train_dirpaths.append(dirpath)\n",
        "    if len(dirname)!= 0:\n",
        "        train_dirnames = dirname\n",
        "    if len(filename)!=0:\n",
        "        train_filenames.append(filename)\n",
        "train_dirpaths.pop(0)"
      ],
      "metadata": {
        "colab": {
          "base_uri": "https://localhost:8080/",
          "height": 35
        },
        "id": "i0Mk6FebqBmM",
        "outputId": "3c372acb-6713-43e5-be8c-fc8c804fd124"
      },
      "id": "i0Mk6FebqBmM",
      "execution_count": 8,
      "outputs": [
        {
          "output_type": "execute_result",
          "data": {
            "text/plain": [
              "'/content/drive/MyDrive/presonal_colab/552-project/Data/train_set'"
            ],
            "application/vnd.google.colaboratory.intrinsic+json": {
              "type": "string"
            }
          },
          "metadata": {},
          "execution_count": 8
        }
      ]
    },
    {
      "cell_type": "code",
      "source": [
        "filepaths=[]\n",
        "labels=[]\n",
        "for i in range(0,20):\n",
        "    klass = train_dirnames[i]\n",
        "    # os.mkdir(os.path.join(aug_dir,klass)) # make the class subdirectories in the aug_dir\n",
        "    for f in train_filenames[i]:        \n",
        "        fpath=os.path.join(train_path,klass, f) \n",
        "        filepaths.append(fpath)\n",
        "        labels.append(klass)\n",
        "    Fseries=pd.Series(filepaths, name='filepaths')\n",
        "    Lseries=pd.Series(labels, name='labels')\n",
        "df=pd.concat([Fseries, Lseries], axis=1) # create the dataframe\n",
        "groups=df.groupby('labels') # group by class"
      ],
      "metadata": {
        "id": "DLK7UeANmOsM"
      },
      "id": "DLK7UeANmOsM",
      "execution_count": 9,
      "outputs": []
    },
    {
      "cell_type": "code",
      "source": [
        "train_path_new = \"/content/drive/MyDrive/presonal_colab/552-project/Data/train_set_with_aug\"\n",
        "def save_aug_img(aug_gen,groups):\n",
        "  for label in df['labels'].unique():  # for every class               \n",
        "    group=groups.get_group(label)  \n",
        "    sample_count=len(group)\n",
        "    aug_img_count=0\n",
        "    # target_dir=os.path.join(\"/content/drive/MyDrive/presonal_colab/552-project/Data/train_set/aug_images\",label) \n",
        "    target_dir=os.path.join(train_path_new,label) \n",
        "    # os.mkdir(target_dir)\n",
        "    flip_gen = ImageDataGenerator(vertical_flip=True)\n",
        "    aug_imgs=aug_gen.flow_from_dataframe(group,x_col='filepaths',y_col=\"labels\",target_size=(224,224),class_mode=None,\n",
        "                                            batch_size=1, shuffle=False, save_to_dir=target_dir,save_prefix='aug_',save_format='jpg')\n",
        "    while aug_img_count<len(group):\n",
        "        images=next(aug_imgs)            \n",
        "        aug_img_count += len(images)"
      ],
      "metadata": {
        "id": "iqVJblX8SV11"
      },
      "id": "iqVJblX8SV11",
      "execution_count": 10,
      "outputs": []
    },
    {
      "cell_type": "code",
      "source": [
        "# save images after empirical regularization to original training directore\n",
        "save_aug_img(crop_gen,groups)\n",
        "save_aug_img(zoom_gen,groups)\n",
        "save_aug_img(rotate_gen,groups)\n",
        "save_aug_img(flip_gen,groups)\n",
        "save_aug_img(contrast_gen,groups)\n",
        "save_aug_img(translate_gen,groups)"
      ],
      "metadata": {
        "colab": {
          "base_uri": "https://localhost:8080/"
        },
        "id": "CkZXugS6sF5-",
        "outputId": "543f30d4-66a9-4d65-ac91-2022f5bb17ca"
      },
      "id": "CkZXugS6sF5-",
      "execution_count": null,
      "outputs": [
        {
          "output_type": "stream",
          "name": "stdout",
          "text": [
            "Found 42 validated image filenames.\n",
            "Found 42 validated image filenames.\n",
            "Found 42 validated image filenames.\n",
            "Found 42 validated image filenames.\n",
            "Found 31 validated image filenames.\n",
            "Found 42 validated image filenames.\n",
            "Found 41 validated image filenames.\n",
            "Found 42 validated image filenames.\n",
            "Found 42 validated image filenames.\n",
            "Found 42 validated image filenames.\n",
            "Found 42 validated image filenames.\n",
            "Found 42 validated image filenames.\n",
            "Found 42 validated image filenames.\n",
            "Found 42 validated image filenames.\n",
            "Found 41 validated image filenames.\n",
            "Found 42 validated image filenames.\n",
            "Found 42 validated image filenames.\n",
            "Found 42 validated image filenames.\n",
            "Found 42 validated image filenames.\n",
            "Found 42 validated image filenames.\n",
            "Found 42 validated image filenames.\n",
            "Found 42 validated image filenames.\n",
            "Found 42 validated image filenames.\n",
            "Found 42 validated image filenames.\n",
            "Found 31 validated image filenames.\n",
            "Found 42 validated image filenames.\n",
            "Found 41 validated image filenames.\n",
            "Found 42 validated image filenames.\n",
            "Found 42 validated image filenames.\n",
            "Found 42 validated image filenames.\n",
            "Found 42 validated image filenames.\n",
            "Found 42 validated image filenames.\n",
            "Found 42 validated image filenames.\n",
            "Found 42 validated image filenames.\n",
            "Found 41 validated image filenames.\n",
            "Found 42 validated image filenames.\n",
            "Found 42 validated image filenames.\n",
            "Found 42 validated image filenames.\n",
            "Found 42 validated image filenames.\n",
            "Found 42 validated image filenames.\n",
            "Found 42 validated image filenames.\n",
            "Found 42 validated image filenames.\n",
            "Found 42 validated image filenames.\n",
            "Found 42 validated image filenames.\n",
            "Found 31 validated image filenames.\n",
            "Found 42 validated image filenames.\n",
            "Found 41 validated image filenames.\n",
            "Found 42 validated image filenames.\n",
            "Found 42 validated image filenames.\n",
            "Found 42 validated image filenames.\n",
            "Found 42 validated image filenames.\n",
            "Found 42 validated image filenames.\n",
            "Found 42 validated image filenames.\n",
            "Found 42 validated image filenames.\n",
            "Found 41 validated image filenames.\n",
            "Found 42 validated image filenames.\n",
            "Found 42 validated image filenames.\n",
            "Found 42 validated image filenames.\n",
            "Found 42 validated image filenames.\n",
            "Found 42 validated image filenames.\n",
            "Found 42 validated image filenames.\n",
            "Found 42 validated image filenames.\n",
            "Found 42 validated image filenames.\n",
            "Found 42 validated image filenames.\n",
            "Found 31 validated image filenames.\n",
            "Found 42 validated image filenames.\n",
            "Found 41 validated image filenames.\n",
            "Found 42 validated image filenames.\n",
            "Found 42 validated image filenames.\n",
            "Found 42 validated image filenames.\n",
            "Found 42 validated image filenames.\n",
            "Found 42 validated image filenames.\n",
            "Found 42 validated image filenames.\n",
            "Found 42 validated image filenames.\n",
            "Found 41 validated image filenames.\n",
            "Found 42 validated image filenames.\n",
            "Found 42 validated image filenames.\n",
            "Found 42 validated image filenames.\n",
            "Found 42 validated image filenames.\n",
            "Found 42 validated image filenames.\n",
            "Found 42 validated image filenames.\n",
            "Found 42 validated image filenames.\n",
            "Found 42 validated image filenames.\n",
            "Found 42 validated image filenames.\n",
            "Found 31 validated image filenames.\n",
            "Found 42 validated image filenames.\n",
            "Found 41 validated image filenames.\n",
            "Found 42 validated image filenames.\n",
            "Found 42 validated image filenames.\n",
            "Found 42 validated image filenames.\n",
            "Found 42 validated image filenames.\n",
            "Found 42 validated image filenames.\n",
            "Found 42 validated image filenames.\n",
            "Found 42 validated image filenames.\n",
            "Found 41 validated image filenames.\n",
            "Found 42 validated image filenames.\n",
            "Found 42 validated image filenames.\n",
            "Found 42 validated image filenames.\n",
            "Found 42 validated image filenames.\n",
            "Found 42 validated image filenames.\n",
            "Found 42 validated image filenames.\n",
            "Found 42 validated image filenames.\n",
            "Found 42 validated image filenames.\n",
            "Found 42 validated image filenames.\n",
            "Found 31 validated image filenames.\n",
            "Found 42 validated image filenames.\n",
            "Found 41 validated image filenames.\n",
            "Found 42 validated image filenames.\n",
            "Found 42 validated image filenames.\n",
            "Found 42 validated image filenames.\n",
            "Found 42 validated image filenames.\n",
            "Found 42 validated image filenames.\n",
            "Found 42 validated image filenames.\n",
            "Found 42 validated image filenames.\n",
            "Found 41 validated image filenames.\n",
            "Found 42 validated image filenames.\n",
            "Found 42 validated image filenames.\n",
            "Found 42 validated image filenames.\n",
            "Found 42 validated image filenames.\n",
            "Found 42 validated image filenames.\n"
          ]
        }
      ]
    },
    {
      "cell_type": "code",
      "source": [
        "# reload training set\n",
        "train_data_merge_efnb0 = ori_gen_efnb0.flow_from_directory(\n",
        "    train_path_new+\"/\",\n",
        "    class_mode = 'categorical',\n",
        "    target_size=(224,224),\n",
        "    batch_size=5,\n",
        "    shuffle=True)\n",
        "train_data_merge_vgg = ori_gen_vgg.flow_from_directory(\n",
        "    train_path_new+\"/\",\n",
        "    class_mode = 'categorical',\n",
        "    target_size=(224,224),\n",
        "    batch_size=5,\n",
        "    shuffle=True)"
      ],
      "metadata": {
        "colab": {
          "base_uri": "https://localhost:8080/"
        },
        "id": "G0T54iVqNnbG",
        "outputId": "d73966b9-e57f-4328-8225-d064b33e9260"
      },
      "id": "G0T54iVqNnbG",
      "execution_count": 11,
      "outputs": [
        {
          "output_type": "stream",
          "name": "stdout",
          "text": [
            "Found 5789 images belonging to 20 classes.\n",
            "Found 5789 images belonging to 20 classes.\n"
          ]
        }
      ]
    },
    {
      "cell_type": "markdown",
      "source": [
        "### c.iii. \n",
        "Use **ReLU** activation functions in the last layer and a **softmax layer**, along with **batch normalization** and a **dropout rate of 20%** as well as **ADAM optimizer**. Use **multinomial cross entropy loss**. You can try any batch size, but a **batch size of 5 seems reasonable**.\n"
      ],
      "metadata": {
        "id": "z_zIt7hKKu8N"
      },
      "id": "z_zIt7hKKu8N"
    },
    {
      "cell_type": "code",
      "source": [
        "# build EfficientNetB0\n",
        "efnb0_base = EfficientNetB0(include_top=False,weights='imagenet', input_shape=(224, 224, 3))\n",
        "for layer in efnb0_base.layers[:-2]:\n",
        "    layer.trainable = False\n",
        "model_efnb0 = Sequential()\n",
        "model_efnb0.add(efnb0_base)\n",
        "model_efnb0.add(Flatten(name=\"flatten\"))\n",
        "model_efnb0.add(Dense(2048, activation='relu'))\n",
        "model_efnb0.add(Dropout(0.2))\n",
        "model_efnb0.add(Dense(20, activation='softmax'))\n",
        "model_efnb0.build((None,224,224,3))\n",
        "model_efnb0.summary()\n",
        "model_efnb0.compile(optimizer=\"adam\", loss='categorical_crossentropy',metrics=['accuracy'])"
      ],
      "metadata": {
        "colab": {
          "base_uri": "https://localhost:8080/"
        },
        "id": "-zM7gBsN--u7",
        "outputId": "36db6205-41a9-47f0-a886-6953909bec51"
      },
      "id": "-zM7gBsN--u7",
      "execution_count": 13,
      "outputs": [
        {
          "output_type": "stream",
          "name": "stdout",
          "text": [
            "Model: \"sequential_1\"\n",
            "_________________________________________________________________\n",
            " Layer (type)                Output Shape              Param #   \n",
            "=================================================================\n",
            " efficientnetb0 (Functional)  (None, 7, 7, 1280)       4049571   \n",
            "                                                                 \n",
            " flatten (Flatten)           (None, 62720)             0         \n",
            "                                                                 \n",
            " dense_2 (Dense)             (None, 2048)              128452608 \n",
            "                                                                 \n",
            " dropout_1 (Dropout)         (None, 2048)              0         \n",
            "                                                                 \n",
            " dense_3 (Dense)             (None, 20)                40980     \n",
            "                                                                 \n",
            "=================================================================\n",
            "Total params: 132,543,159\n",
            "Trainable params: 128,496,148\n",
            "Non-trainable params: 4,047,011\n",
            "_________________________________________________________________\n"
          ]
        }
      ]
    },
    {
      "cell_type": "code",
      "source": [
        "# build vgg16\n",
        "vgg_base = VGG16(include_top=False,weights='imagenet', input_shape=(224, 224, 3))\n",
        "for layer in vgg_base.layers[:-2]:\n",
        "    layer.trainable = False\n",
        "model_vgg = Sequential()\n",
        "model_vgg.add(vgg_base)\n",
        "# model_vgg.add(Flatten(name=\"flatten\"))\n",
        "model_vgg.add(GlobalAveragePooling2D())\n",
        "model_vgg.add(BatchNormalization())\n",
        "model_vgg.add(Dense(2048, activation='relu'))\n",
        "model_vgg.add(Dropout(0.2))\n",
        "model_vgg.add(Dense(20, activation='softmax'))\n",
        "model_vgg.build((None,224,224,3))\n",
        "model_vgg.summary()\n",
        "optimizer = Adam(learning_rate=0.1)\n",
        "model_vgg.compile(optimizer=\"adam\", loss='categorical_crossentropy',metrics=['accuracy'])"
      ],
      "metadata": {
        "colab": {
          "base_uri": "https://localhost:8080/"
        },
        "id": "djmI4D--pD2J",
        "outputId": "58cc9a16-27b3-418a-9ddd-cea97f5165ab"
      },
      "id": "djmI4D--pD2J",
      "execution_count": 17,
      "outputs": [
        {
          "output_type": "stream",
          "name": "stdout",
          "text": [
            "Model: \"sequential_3\"\n",
            "_________________________________________________________________\n",
            " Layer (type)                Output Shape              Param #   \n",
            "=================================================================\n",
            " vgg16 (Functional)          (None, 7, 7, 512)         14714688  \n",
            "                                                                 \n",
            " global_average_pooling2d (G  (None, 512)              0         \n",
            " lobalAveragePooling2D)                                          \n",
            "                                                                 \n",
            " batch_normalization (BatchN  (None, 512)              2048      \n",
            " ormalization)                                                   \n",
            "                                                                 \n",
            " dense_4 (Dense)             (None, 2048)              1050624   \n",
            "                                                                 \n",
            " dropout_2 (Dropout)         (None, 2048)              0         \n",
            "                                                                 \n",
            " dense_5 (Dense)             (None, 20)                40980     \n",
            "                                                                 \n",
            "=================================================================\n",
            "Total params: 15,808,340\n",
            "Trainable params: 3,452,436\n",
            "Non-trainable params: 12,355,904\n",
            "_________________________________________________________________\n"
          ]
        }
      ]
    },
    {
      "cell_type": "markdown",
      "id": "d8daaa3f",
      "metadata": {
        "id": "d8daaa3f"
      },
      "source": [
        "### c.iv. \n",
        "Train the networks (EfficientNetB0 and VGG16) for **at least 50 epochs (preferably 100 epochs)** and perform **early stopping using the validation set**. Keep the network parameters that have the **lowest validation error**. \n",
        "\n",
        "**Plot the training and validation errors vs. epochs**"
      ]
    },
    {
      "cell_type": "code",
      "source": [
        "# train_data after mergering together is too large to fit(one epoch need about one hour if batch_size=5)\n",
        "# too time consuming\n",
        "# so I decide to let batch_size=50 and only run 20 epoches\n",
        "n_steps = train_data_merge_efnb0.samples // 50\n",
        "n_val_steps = vali_data.samples // 50"
      ],
      "metadata": {
        "id": "jJvfdGTt_Xap"
      },
      "id": "jJvfdGTt_Xap",
      "execution_count": 52,
      "outputs": []
    },
    {
      "cell_type": "code",
      "source": [
        "plot_loss = PlotLossesCallback()\n",
        "checkpoint_efnb0 = ModelCheckpoint(filepath='efnb0.weights.best.hdf5',\n",
        "                                  save_best_only=True,verbose=1)\n",
        "# EarlyStopping\n",
        "early_stop = EarlyStopping(monitor='val_loss',patience=10,\n",
        "                           restore_best_weights=True,mode='min')\n",
        "# fit EfficientNetB0\n",
        "efnb0_history = model_efnb0.fit(train_data_merge_efnb0,\n",
        "                            batch_size=50,\n",
        "                            epochs=20,\n",
        "                            validation_data=vali_data,\n",
        "                            steps_per_epoch=n_steps,\n",
        "                            validation_steps=n_val_steps,\n",
        "                            callbacks=[checkpoint_efnb0, early_stop, plot_loss],\n",
        "                            # callbacks=[early_stop, plot_loss],\n",
        "                            verbose=1)"
      ],
      "metadata": {
        "id": "FGCFZ7NT_GbT",
        "colab": {
          "base_uri": "https://localhost:8080/",
          "height": 710
        },
        "outputId": "af713941-85aa-4149-f07c-b2aecde1a0ff"
      },
      "id": "FGCFZ7NT_GbT",
      "execution_count": 57,
      "outputs": [
        {
          "output_type": "display_data",
          "data": {
            "text/plain": [
              "<Figure size 864x576 with 2 Axes>"
            ],
            "image/png": "[encoded data removed]"
          },
          "metadata": {
            "needs_background": "light"
          }
        },
        {
          "output_type": "stream",
          "name": "stdout",
          "text": [
            "accuracy\n",
            "\ttraining         \t (min:    0.393, max:    0.883, cur:    0.880)\n",
            "\tvalidation       \t (min:    0.467, max:    0.867, cur:    0.600)\n",
            "Loss\n",
            "\ttraining         \t (min:    1.111, max:   22.398, cur:    1.111)\n",
            "\tvalidation       \t (min:    1.075, max:    9.865, cur:    6.117)\n",
            "\b\b\b\b\b\b\b\b\b\b\b\b\b\b\b\b\b\b\b\b\b\b\b\b\b\b\b\b\b\b\b\b\b\b\b\b\b\b\b\b\b\b\b\b\b\b\b\b\b\b\b\b\b\b\b\b\b\b\b\b\b\b\b\b\b\b\b\b\b\b\b\b\b\b\b\b\b\b\b\b\b\b\b\b\r115/115 [==============================] - 295s 3s/step - loss: 1.1107 - accuracy: 0.8800 - val_loss: 6.1166 - val_accuracy: 0.6000\n"
          ]
        }
      ]
    },
    {
      "cell_type": "code",
      "source": [
        "# refit with best weights\n",
        "model_efnb0.load_weights('efnb0.weights.best.hdf5') # initialize the best trained weights\n",
        "\n",
        "efnb0_pred = model_efnb0.predict(test_data)\n",
        "efnb0_pred_classes = np.argmax(efnb0_pred, axis=1)"
      ],
      "metadata": {
        "id": "yhtZIOq4AgKh",
        "colab": {
          "base_uri": "https://localhost:8080/"
        },
        "outputId": "458f1911-26ac-4216-e4c8-7b6a4958913b"
      },
      "id": "yhtZIOq4AgKh",
      "execution_count": 58,
      "outputs": [
        {
          "output_type": "stream",
          "name": "stdout",
          "text": [
            "35/35 [==============================] - 32s 881ms/step\n"
          ]
        }
      ]
    },
    {
      "cell_type": "code",
      "source": [
        "efnb0_training_acc = efnb0_history.history['accuracy']\n",
        "efnb0_val_acc = efnb0_history.history['val_accuracy']\n",
        "\n",
        "efnb0_training_err = []\n",
        "efnb0_val_err = []\n",
        "for i in range(len(efnb0_training_acc)):\n",
        "    efnb0_training_err.append(1 - efnb0_training_acc[i])\n",
        "    efnb0_val_err.append(1 - efnb0_val_acc[i])\n",
        "plt.plot(efnb0_training_err, label = 'training')\n",
        "plt.plot(efnb0_val_err, label = 'validation')\n",
        "plt.xlabel('Epoch')\n",
        "plt.ylabel('Error')\n",
        "plt.legend(loc = 'upper right')\n",
        "plt.title('errors')\n",
        "plt.show()"
      ],
      "metadata": {
        "colab": {
          "base_uri": "https://localhost:8080/",
          "height": 295
        },
        "id": "mBWkZFWMhfX6",
        "outputId": "e5648ba5-5785-463f-b4bd-178de7a01cae"
      },
      "id": "mBWkZFWMhfX6",
      "execution_count": 68,
      "outputs": [
        {
          "output_type": "display_data",
          "data": {
            "text/plain": [
              "<Figure size 432x288 with 1 Axes>"
            ],
            "image/png": "[encoded data removed]"
          },
          "metadata": {
            "needs_background": "light"
          }
        }
      ]
    },
    {
      "cell_type": "code",
      "source": [
        "plot_loss_new = PlotLossesCallback()\n",
        "checkpoint_vgg = ModelCheckpoint(filepath='vgg.weights.best.hdf5',\n",
        "                                  save_best_only=True,verbose=1)\n",
        "\n",
        "early_stop = EarlyStopping(monitor='val_loss',patience=10,\n",
        "                           restore_best_weights=True,mode='min')\n",
        "# fit vgg\n",
        "n_steps = train_data_merge_vgg.samples // 100\n",
        "n_val_steps = vali_data.samples // 100\n",
        "vgg_history = model_vgg.fit(train_data_merge_vgg,\n",
        "                            batch_size=100,\n",
        "                            epochs=20,\n",
        "                            validation_data=vali_data,\n",
        "                            steps_per_epoch=n_steps,\n",
        "                            validation_steps=n_val_steps,\n",
        "                            callbacks=[checkpoint_vgg, early_stop, plot_loss_new],\n",
        "                            verbose=1)"
      ],
      "metadata": {
        "id": "fTAIxKJEjigz",
        "colab": {
          "base_uri": "https://localhost:8080/",
          "height": 710
        },
        "outputId": "68d073a6-2ae2-4e00-f704-d93bf6c58689"
      },
      "id": "fTAIxKJEjigz",
      "execution_count": 18,
      "outputs": [
        {
          "output_type": "display_data",
          "data": {
            "text/plain": [
              "<Figure size 864x576 with 2 Axes>"
            ],
            "image/png": "[encoded data removed]"
          },
          "metadata": {
            "needs_background": "light"
          }
        },
        {
          "output_type": "stream",
          "name": "stdout",
          "text": [
            "accuracy\n",
            "\ttraining         \t (min:    0.337, max:    0.821, cur:    0.789)\n",
            "\tvalidation       \t (min:    0.000, max:    0.600, cur:    0.000)\n",
            "Loss\n",
            "\ttraining         \t (min:    0.580, max:    2.579, cur:    0.908)\n",
            "\tvalidation       \t (min:    2.442, max:   24.298, cur:   24.298)\n",
            "\b\b\b\b\b\b\b\b\b\b\b\b\b\b\b\b\b\b\b\b\b\b\b\b\b\b\b\b\b\b\b\b\b\b\b\b\b\b\b\b\b\b\b\b\b\b\b\b\b\b\b\b\b\b\b\b\b\b\b\b\b\b\b\b\b\b\b\b\b\b\b\b\b\b\b\b\b\b\b\b\b\b\r57/57 [==============================] - 143s 3s/step - loss: 0.9082 - accuracy: 0.7895 - val_loss: 24.2979 - val_accuracy: 0.0000e+00\n"
          ]
        }
      ]
    },
    {
      "cell_type": "code",
      "execution_count": 19,
      "id": "38b9e1d8",
      "metadata": {
        "id": "38b9e1d8",
        "colab": {
          "base_uri": "https://localhost:8080/"
        },
        "outputId": "18f173ff-7575-42e4-9da0-b0e07ac654fa"
      },
      "outputs": [
        {
          "output_type": "stream",
          "name": "stdout",
          "text": [
            "35/35 [==============================] - 79s 2s/step\n"
          ]
        }
      ],
      "source": [
        "# refit with best weights\n",
        "model_vgg.load_weights('vgg.weights.best.hdf5') # initialize the best trained weights\n",
        "\n",
        "vgg_pred = model_vgg.predict(test_data)\n",
        "vgg_pred_classes = np.argmax(vgg_pred, axis=1)"
      ]
    },
    {
      "cell_type": "code",
      "source": [
        "vgg_training_acc = vgg_history.history['accuracy']\n",
        "vgg_val_acc = vgg_history.history['val_accuracy']\n",
        "\n",
        "vgg_training_err = []\n",
        "vgg_val_err = []\n",
        "for i in range(len(vgg_training_acc)):\n",
        "    vgg_training_err.append(1 - vgg_training_acc[i])\n",
        "    vgg_val_err.append(1 - vgg_val_acc[i])\n",
        "plt.plot(vgg_training_err, label = 'training')\n",
        "plt.plot(vgg_val_err, label = 'validation')\n",
        "plt.xlabel('Epoch')\n",
        "plt.ylabel('Error')\n",
        "plt.legend(loc = 'upper right')\n",
        "plt.title('errors')\n",
        "plt.show()"
      ],
      "metadata": {
        "colab": {
          "base_uri": "https://localhost:8080/",
          "height": 295
        },
        "id": "jMGNbCrgiepH",
        "outputId": "f6bc53e0-e17d-4dee-a6c0-1f88c0f3b78b"
      },
      "id": "jMGNbCrgiepH",
      "execution_count": 20,
      "outputs": [
        {
          "output_type": "display_data",
          "data": {
            "text/plain": [
              "<Figure size 432x288 with 1 Axes>"
            ],
            "image/png": "[encoded data removed]"
          },
          "metadata": {
            "needs_background": "light"
          }
        }
      ]
    },
    {
      "cell_type": "markdown",
      "id": "e9a8b024",
      "metadata": {
        "id": "e9a8b024"
      },
      "source": [
        "### c.v. Report Precision, Recall, and F1 score for your model. Remember that this is a multi-class classification problem"
      ]
    },
    {
      "cell_type": "code",
      "source": [
        "true_classes = test_data.classes\n",
        "# class_indices = train_data.class_indices\n",
        "# class_indices = dict((v,k) for k,v in class_indices.items())"
      ],
      "metadata": {
        "id": "FNNVSYBwxC8c"
      },
      "id": "FNNVSYBwxC8c",
      "execution_count": 21,
      "outputs": []
    },
    {
      "cell_type": "code",
      "source": [
        "print(classification_report(true_classes,efnb0_pred_classes))"
      ],
      "metadata": {
        "id": "jfMJCQetAo3a",
        "colab": {
          "base_uri": "https://localhost:8080/"
        },
        "outputId": "49417cc4-1597-4972-832b-5c3eee6e3c17"
      },
      "id": "jfMJCQetAo3a",
      "execution_count": 60,
      "outputs": [
        {
          "output_type": "stream",
          "name": "stdout",
          "text": [
            "              precision    recall  f1-score   support\n",
            "\n",
            "           0       1.00      1.00      1.00         6\n",
            "           1       0.89      0.89      0.89         9\n",
            "           2       0.62      1.00      0.76         8\n",
            "           3       0.75      0.75      0.75         8\n",
            "           4       0.43      0.33      0.38         9\n",
            "           5       0.62      0.56      0.59         9\n",
            "           6       0.82      1.00      0.90         9\n",
            "           7       0.86      0.67      0.75         9\n",
            "           8       0.86      0.67      0.75         9\n",
            "           9       1.00      0.89      0.94         9\n",
            "          10       0.83      0.56      0.67         9\n",
            "          11       0.80      0.89      0.84         9\n",
            "          12       0.70      0.78      0.74         9\n",
            "          13       0.75      0.33      0.46         9\n",
            "          14       0.64      0.78      0.70         9\n",
            "          15       0.55      0.75      0.63         8\n",
            "          16       0.89      1.00      0.94         8\n",
            "          17       0.86      0.75      0.80         8\n",
            "          18       0.64      1.00      0.78         9\n",
            "          19       1.00      0.62      0.77         8\n",
            "\n",
            "    accuracy                           0.75       171\n",
            "   macro avg       0.77      0.76      0.75       171\n",
            "weighted avg       0.77      0.75      0.75       171\n",
            "\n"
          ]
        }
      ]
    },
    {
      "cell_type": "code",
      "execution_count": 22,
      "id": "95c9f5b9",
      "metadata": {
        "id": "95c9f5b9",
        "colab": {
          "base_uri": "https://localhost:8080/"
        },
        "outputId": "4014002d-1612-489c-ffdd-4d3ee2e26299"
      },
      "outputs": [
        {
          "output_type": "stream",
          "name": "stdout",
          "text": [
            "              precision    recall  f1-score   support\n",
            "\n",
            "           0       1.00      0.50      0.67         6\n",
            "           1       1.00      0.11      0.20         9\n",
            "           2       0.22      0.50      0.31         8\n",
            "           3       1.00      0.38      0.55         8\n",
            "           4       0.36      0.44      0.40         9\n",
            "           5       0.50      0.78      0.61         9\n",
            "           6       0.88      0.78      0.82         9\n",
            "           7       0.71      0.56      0.63         9\n",
            "           8       0.24      0.67      0.35         9\n",
            "           9       1.00      0.78      0.88         9\n",
            "          10       0.33      0.22      0.27         9\n",
            "          11       0.73      0.89      0.80         9\n",
            "          12       0.33      0.11      0.17         9\n",
            "          13       0.24      0.56      0.33         9\n",
            "          14       0.31      0.56      0.40         9\n",
            "          15       0.00      0.00      0.00         8\n",
            "          16       0.70      0.88      0.78         8\n",
            "          17       0.50      0.12      0.20         8\n",
            "          18       0.00      0.00      0.00         9\n",
            "          19       0.00      0.00      0.00         8\n",
            "\n",
            "    accuracy                           0.44       171\n",
            "   macro avg       0.50      0.44      0.42       171\n",
            "weighted avg       0.50      0.44      0.42       171\n",
            "\n"
          ]
        }
      ],
      "source": [
        "print(classification_report(true_classes,vgg_pred_classes))\n"
      ]
    }
  ],
  "metadata": {
    "kernelspec": {
      "display_name": "Python 3 (ipykernel)",
      "language": "python",
      "name": "python3"
    },
    "language_info": {
      "codemirror_mode": {
        "name": "ipython",
        "version": 3
      },
      "file_extension": ".py",
      "mimetype": "text/x-python",
      "name": "python",
      "nbconvert_exporter": "python",
      "pygments_lexer": "ipython3",
      "version": "3.8.8"
    },
    "colab": {
      "provenance": []
    }
  },
  "nbformat": 4,
  "nbformat_minor": 5
}